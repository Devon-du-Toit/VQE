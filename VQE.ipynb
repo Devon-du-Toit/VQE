{
 "cells": [
  {
   "cell_type": "markdown",
   "metadata": {},
   "source": [
    "Devon du Toit, dutoitdevon@gmail.com\n",
    "\n",
    "<h1>2 Qubit Variable Quantum Eigensolver</h1>"
   ]
  },
  {
   "cell_type": "markdown",
   "metadata": {},
   "source": [
    "<h3>Decomposing 2 qubit Hamiltonian into Pauli terms</h3>\n",
    "\n",
    "A 4x4 (2 qubit) Hamiltonian matrix, $H$ may be decomposed into the sum and tensor products of its Pauli-terms. The four Pauli-terms under consideration are:\n",
    "\n",
    "\\begin{equation}\n",
    "\\sigma_{I}=\\begin{bmatrix}\n",
    "1&0\\\\\n",
    "0&1\n",
    "\\end{bmatrix},\n",
    "\\sigma_{x}=\\begin{bmatrix}\n",
    "0&1\\\\\n",
    "1&0\n",
    "\\end{bmatrix},\n",
    "\\sigma_{y}=\\begin{bmatrix}\n",
    "0&-i\\\\\n",
    "i&0\n",
    "\\end{bmatrix},\n",
    "\\sigma_{z}=\\begin{bmatrix}\n",
    "1&0\\\\\n",
    "0&-1\n",
    "\\end{bmatrix}\n",
    "\\end{equation}\n",
    "\n",
    "We may find the exact combination of these terms to construct the Hamiltonian using the Hillbert-Schmidt Inner Product of two matrices:\n",
    "\n",
    "\\begin{equation}\n",
    "H=\\sum_{i=1,x,y,z}\\sum_{j=1,x,y,z}\\frac{1}{4}tr[(\\sigma_{i} \\otimes \\sigma_{j})H](\\sigma_{i} \\otimes \\sigma_{j})\n",
    "\\end{equation}"
   ]
  },
  {
   "cell_type": "code",
   "execution_count": 1,
   "metadata": {},
   "outputs": [
    {
     "name": "stdout",
     "output_type": "stream",
     "text": [
      "0.5 * I⊗I\n",
      "-0.5 * sig_x⊗sig_x\n",
      "-0.5 * sig_y⊗sig_y\n",
      "0.5 * sig_z⊗sig_z\n"
     ]
    }
   ],
   "source": [
    "import numpy as np\n",
    "\n",
    "#Define the Hamiltonian Matrix\n",
    "H = np.matrix('1 0 0 0; 0 0 -1 0; 0 -1 0 0; 0 0 0 1')\n",
    "\n",
    "def decompose(H):\n",
    "    #define the four Pauli-matrices in a dictionary:\n",
    "    pauli_g = [np.matrix('1 0; 0 1'), #Identity\n",
    "               np.matrix('0 1; 1 0'), #Sigma X\n",
    "               np.matrix('0 -1j; 1j 0'), #Sigma Y, 1j = imaginary (i)\n",
    "               np.matrix('1 0; 0 -1') #Sigma Z\n",
    "              ]\n",
    "    \n",
    "    #Naming of Pauli-matrices for usability\n",
    "    sig_names = ['I', 'sig_x', 'sig_y', 'sig_z']\n",
    "    \n",
    "    #Applying the Summation of i and j for all combinations of 1,x,y,z. \n",
    "    for i in range(4):\n",
    "        for j in range(4):\n",
    "            #Improving Readability of output\n",
    "            name = sig_names[i] + '⊗' +sig_names[j] \n",
    "            #Calculate  a_i,j via function Hill_Sch. np.kron = Kronecker product\n",
    "            a_ij = 0.25 * Hill_Sch(np.kron(pauli_g[i], pauli_g[j]), H)\n",
    "            \n",
    "            #If the Hillbert-Schmidt Product doesn't reduce to 0\n",
    "            if a_ij != 0.0:\n",
    "                print(value(a_ij),'*', name)\n",
    "                \n",
    "   \n",
    "#Conversion of the complex number into a string\n",
    "def value(c):\n",
    "    if c == 0.0:\n",
    "        return \"0\"\n",
    "    if c.imag == 0:\n",
    "        return \"%g\" % c.real\n",
    "    elif c.real == 0:\n",
    "        return \"%gj\" % c.imag\n",
    "    else:\n",
    "        return \"%g+%gj\" % (c.real, c.imag)\n",
    "            \n",
    "#Determine Hillbert Schmidt Product of two matrices\n",
    "def Hill_Sch(Matrix_1, Matrix_2):\n",
    "    #Quantum method of multiplying matrices |ψ1> and |ψ2>: <ψ1*|ψ2> for <ψ1*| the complex conjugate of |ψ1> \n",
    "    return (np.dot(Matrix_1.conjugate().transpose(), Matrix_2)).trace()\n",
    "\n",
    "#Run script\n",
    "decompose(H)"
   ]
  },
  {
   "cell_type": "markdown",
   "metadata": {},
   "source": [
    "Given input:\n",
    "\n",
    "\\begin{equation}\n",
    "H=\\begin{bmatrix}\n",
    "1 &0 &0 &0\\\\\n",
    "0 &0 &-1 &0\\\\\n",
    "0 &-1 &0 &0\\\\\n",
    "0 &0 &0 &1\n",
    "\\end{bmatrix}\n",
    "\\end{equation}\n",
    "\n",
    "We find the deconstruction into Pauli terms to be:\n",
    "\n",
    "\\begin{equation}\n",
    "H= \\frac{1}{2} I \\otimes I - \\frac{1}{2} X \\otimes X -\\frac{1}{2} Y \\otimes Y + \\frac{1}{2} Z \\otimes Z\n",
    "\\end{equation}\n",
    "\n",
    "We may thus simplify our code by only looking at tensor products of the same Pauli-terms (XX, YY etc.)"
   ]
  },
  {
   "attachments": {
    "ansatz.png": {
     "image/png": "[encoded data removed]"
    }
   },
   "cell_type": "markdown",
   "metadata": {},
   "source": [
    "<h3>Finding an Ansatz</h3>\n",
    "\n",
    "We need an ansatz that can access all the possible states, yet isn't overly complicated and too resource intensive. For simplicity, I selected an existing ansatz performing well under similar circumstances (2-qubit vqe), found here: http://www.warrenalphonso.com/qc/hubbard .\n",
    "\n",
    "![ansatz.png](attachment:ansatz.png)"
   ]
  },
  {
   "cell_type": "markdown",
   "metadata": {},
   "source": [
    "<h3>Ensuring measurements in the Z-basis</h3>\n",
    "    \n",
    "After our phase preperation, we need to ensure our phases are Z-basis measurable, therefore we need to apply rotations unique to each phase:\n",
    "\n",
    "- For X, the gate RY(−π/2) is applied.\n",
    "- For Y, RX(π/2) is applied.\n",
    "- For Z, no gate is applied.\n",
    "\n",
    "Using these criteria, we may now construct our quantum circuits."
   ]
  },
  {
   "cell_type": "code",
   "execution_count": 2,
   "metadata": {},
   "outputs": [],
   "source": [
    "from qiskit import *\n",
    "simulator = Aer.get_backend('qasm_simulator')\n",
    "import matplotlib.pyplot as plt\n",
    "%matplotlib inline"
   ]
  },
  {
   "cell_type": "code",
   "execution_count": 3,
   "metadata": {},
   "outputs": [],
   "source": [
    "qr = QuantumRegister(2)\n",
    "cr = ClassicalRegister(2)"
   ]
  },
  {
   "cell_type": "code",
   "execution_count": 4,
   "metadata": {},
   "outputs": [],
   "source": [
    "#define empty arrays to store measurements of Hamiltonian terms XX, YY, ZZ (no need for II as that will equal 1)\n",
    "resultx = []\n",
    "resulty = []\n",
    "resultz = []\n",
    "\n",
    "#We construct a new circuit for each change in ansatz perimeter (from -2pi to 2pi).\n",
    "for i in np.arange(-(9/4)*np.pi, (9/4)*np.pi, np.pi/4):\n",
    "    circuit = QuantumCircuit(qr, cr)\n",
    "    \n",
    "    #Ansatz\n",
    "    circuit.h(qr[0])\n",
    "    circuit.rz(i, qr[0])\n",
    "    circuit.cx(qr[0], qr[1])\n",
    "    circuit.x(qr[1])\n",
    "    \n",
    "    #XX Hamiltonian term\n",
    "    circuitx = circuit.copy()\n",
    "    #Ensureing Z-basis measurements for X\n",
    "    circuitx.ry(-np.pi/2, qr[0])\n",
    "    circuitx.ry(-np.pi/2, qr[1])\n",
    "    #Measurements\n",
    "    circuitx.measure(qr[0], cr[0])\n",
    "    circuitx.measure(qr[1], cr[1])\n",
    "    #Store counts results for XX\n",
    "    jobx = execute(circuitx, backend = simulator)\n",
    "    result = jobx.result()\n",
    "    countsx = result.get_counts()\n",
    "    resultx.append(countsx)\n",
    "    \n",
    "    #YY Hamiltonian term\n",
    "    circuity = circuit.copy()\n",
    "    #Ensureing Z-basis measurements for Y\n",
    "    circuity.rx(np.pi/2, qr[0])\n",
    "    circuity.rx(np.pi/2, qr[1])\n",
    "    #Measurements\n",
    "    circuity.measure(qr[0], cr[0])\n",
    "    circuity.measure(qr[1], cr[1])\n",
    "    #Store counts results for Y\n",
    "    joby = execute(circuity, backend = simulator)\n",
    "    result = joby.result()\n",
    "    countsy = result.get_counts()\n",
    "    resulty.append(countsy)\n",
    "    \n",
    "    #ZZ Hamiltonian term\n",
    "    circuitz = circuit.copy()\n",
    "    #Measurements\n",
    "    circuitz.measure(qr[0], cr[0])\n",
    "    circuitz.measure(qr[1], cr[1])\n",
    "    #Store counts results for Z\n",
    "    jobz = execute(circuitz, backend = simulator)\n",
    "    result = jobz.result()\n",
    "    countsz = result.get_counts()\n",
    "    resultz.append(countsz)"
   ]
  },
  {
   "cell_type": "code",
   "execution_count": 5,
   "metadata": {},
   "outputs": [],
   "source": [
    "#Define empty array to store XX expectation values\n",
    "expectx = []\n",
    "\n",
    "#Fill empty states with null values for XX\n",
    "for n in resultx:\n",
    "    if '00' not in n:\n",
    "        n['00']=0\n",
    "            \n",
    "    if '01' not in n:\n",
    "        n['01']=0\n",
    "\n",
    "    if '10' not in n:\n",
    "        n['10']=0\n",
    "\n",
    "    if '11' not in n:\n",
    "        n['11']=0\n",
    "\n",
    "    expec_val = (n['00']-n['01']-n['10']+n['11'])/1024\n",
    "    expectx.append(expec_val)\n",
    "    \n",
    "#Define empty array to store YY expectation values\n",
    "expecty = []\n",
    "\n",
    "#Fill empty states with null values for YY\n",
    "for n in resulty:\n",
    "    if '00' not in n:\n",
    "        n['00']=0\n",
    "            \n",
    "    if '01' not in n:\n",
    "        n['01']=0\n",
    "\n",
    "    if '10' not in n:\n",
    "        n['10']=0\n",
    "\n",
    "    if '11' not in n:\n",
    "        n['11']=0\n",
    "\n",
    "    expec_val = (n['00']-n['01']-n['10']+n['11'])/1024\n",
    "    expecty.append(expec_val)\n",
    "    \n",
    "    #Define empty array to store ZZ expectation values\n",
    "expectz = []\n",
    "\n",
    "#Fill empty states with null values for ZZ\n",
    "for n in resultz:\n",
    "    if '00' not in n:\n",
    "        n['00']=0\n",
    "            \n",
    "    if '01' not in n:\n",
    "        n['01']=0\n",
    "\n",
    "    if '10' not in n:\n",
    "        n['10']=0\n",
    "\n",
    "    if '11' not in n:\n",
    "        n['11']=0\n",
    "\n",
    "    expec_val = (n['00']-n['01']-n['10']+n['11'])/1024\n",
    "    expectz.append(expec_val)"
   ]
  },
  {
   "cell_type": "code",
   "execution_count": 9,
   "metadata": {},
   "outputs": [
    {
     "name": "stdout",
     "output_type": "stream",
     "text": [
      "[-0.7119140625, -1.0, -0.7001953125, 0.0244140625, 0.681640625, 1.0, 0.720703125, 0.0146484375, -0.6923828125, -1.0, -0.7275390625, -0.037109375, 0.7109375, 1.0, 0.6962890625, 0.0166015625, -0.720703125, -1.0]\n"
     ]
    }
   ],
   "source": [
    "#define empty array for total expectation value\n",
    "expect_tot = []\n",
    "\n",
    "#Apply H = 0.5II+0.5ZZ-0.5XX-0.5YY and store for each value from -2pi to 2pi in intervals of pi/4 (18 times)\n",
    "for m in range(18):\n",
    "    expect_tot.append(-0.5*expectx[m]-0.5*expecty[m]+0.5*expectz[m]+0.5)\n",
    "    \n",
    "print(expect_tot)"
   ]
  },
  {
   "cell_type": "code",
   "execution_count": 7,
   "metadata": {},
   "outputs": [],
   "source": [
    "#Define x values for a matplot graph for -2pi to 2pi in steps pi/4\n",
    "p = np.linspace(-2*np.pi,2*np.pi,18)"
   ]
  },
  {
   "cell_type": "code",
   "execution_count": 14,
   "metadata": {},
   "outputs": [
    {
     "data": {
      "text/plain": [
       "Text(0, 0.5, 'Eigenvalue Estimate')"
      ]
     },
     "execution_count": 14,
     "metadata": {},
     "output_type": "execute_result"
    },
    {
     "data": {
      "image/png": "[encoded data removed]",
      "text/plain": [
       "<Figure size 432x288 with 1 Axes>"
      ]
     },
     "metadata": {
      "needs_background": "light"
     },
     "output_type": "display_data"
    }
   ],
   "source": [
    "plt.plot(p, expect_tot)\n",
    "plt.ylabel(\"Eigenvalue Estimate\")"
   ]
  },
  {
   "cell_type": "markdown",
   "metadata": {},
   "source": [
    "<h3>Lowest Eigenvalue Estimation</h3>\n",
    "\n",
    "As can been seen from our graph and list of expectation values, the lowest eigenvalue seems to be -1. We may verify this with numpy.linalg.eig():"
   ]
  },
  {
   "cell_type": "code",
   "execution_count": 10,
   "metadata": {},
   "outputs": [
    {
     "data": {
      "text/plain": [
       "(array([ 1., -1.,  1.,  1.]),\n",
       " matrix([[ 0.        ,  0.        ,  1.        ,  0.        ],\n",
       "         [-0.70710678,  0.70710678,  0.        ,  0.        ],\n",
       "         [ 0.70710678,  0.70710678,  0.        ,  0.        ],\n",
       "         [ 0.        ,  0.        ,  0.        ,  1.        ]]))"
      ]
     },
     "execution_count": 10,
     "metadata": {},
     "output_type": "execute_result"
    }
   ],
   "source": [
    "np.linalg.eig(H)"
   ]
  },
  {
   "cell_type": "markdown",
   "metadata": {},
   "source": [
    "We thus see that the eigenvalues are +/- 1. We may conclude that our quantum circuit simualtor does indeed give an accurate estimation."
   ]
  }
 ],
 "metadata": {
  "kernelspec": {
   "display_name": "Python 3",
   "language": "python",
   "name": "python3"
  },
  "language_info": {
   "codemirror_mode": {
    "name": "ipython",
    "version": 3
   },
   "file_extension": ".py",
   "mimetype": "text/x-python",
   "name": "python",
   "nbconvert_exporter": "python",
   "pygments_lexer": "ipython3",
   "version": "3.7.6"
  }
 },
 "nbformat": 4,
 "nbformat_minor": 4
}
